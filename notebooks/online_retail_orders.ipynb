{
 "cells": [
  {
   "cell_type": "markdown",
   "metadata": {},
   "source": [
    "#  Online Retail Orders with Akka and Db2 Event Store\n",
    "\n",
    "This notebook uses the [Scala](https://www.scala-lang.org/) programming language\n",
    "to interact with IBM Db2 Event Stream. It demonstrates how to:\n",
    "\n",
    "* Connect to Event Store\n",
    "* Show the data that you inserted using WebSockets, Alpakka, Akka Streams and Db2 Event Store\n",
    "* Manipulate and aggregate the data with Spark SQL\n",
    "* Visualize the information with interactive Brunel charts\n",
    "\n",
    "Run this notebook after running the setup notebook and after (or while)\n",
    "feeding data in via the `db2-event-store-akka-streams` Scala app."
   ]
  },
  {
   "cell_type": "markdown",
   "metadata": {},
   "source": [
    "## Connect to IBM Db2 Event Store\n",
    "\n",
    "### Determine the IP address of your host\n",
    "\n",
    "Obtain the IP address of the host that you want to connect to by running the appropriate command for your operating system:\n",
    "\n",
    "* On Mac, run: `ifconfig`\n",
    "* On Windows, run: `ipconfig`\n",
    "* On Linux, run: `hostname -i`\n",
    "\n",
    "Edit the `host = \"XXX.XXX.XXX.XXX\"` value in the next cell to provide the IP address."
   ]
  },
  {
   "cell_type": "code",
   "execution_count": null,
   "metadata": {
    "collapsed": false
   },
   "outputs": [],
   "source": [
    "// Set your host IP address\n",
    "var host = \"XXX.XXX.XXX.XXX\"\n",
    "\n",
    "// Port will be 1100 for version 1.1.2 or later (5555 for version 1.1.1)\n",
    "var port = \"1100\"\n",
    "\n",
    "// Table name\n",
    "var tableName = \"OnlineRetailOrderDetail\"\n",
    "\n",
    "// Cancellations table name\n",
    "var cancelTableName = \"OnlineRetailCancelDetail\"\n",
    "\n",
    "// Database name\n",
    "var db = \"TESTDB\""
   ]
  },
  {
   "cell_type": "markdown",
   "metadata": {},
   "source": [
    "## Add Brunel integration\n",
    "Use cell magic to install the Brunel integration for Apache Toree (Scala)."
   ]
  },
  {
   "cell_type": "code",
   "execution_count": null,
   "metadata": {
    "collapsed": false
   },
   "outputs": [],
   "source": [
    "%AddJar -magic https://brunelvis.org/jar/spark-kernel-brunel-all-2.3.jar -f"
   ]
  },
  {
   "cell_type": "markdown",
   "metadata": {},
   "source": [
    "## Import Scala packages\n",
    "\n",
    "Import packages for Scala, Spark, and IBM Db2 Event Store."
   ]
  },
  {
   "cell_type": "code",
   "execution_count": null,
   "metadata": {
    "collapsed": false
   },
   "outputs": [],
   "source": [
    "import sys.process._\n",
    "import java.io.File\n",
    "import scala.concurrent.{Await, Future}\n",
    "import scala.concurrent.duration.Duration\n",
    "import org.apache.log4j.{Level, LogManager, Logger}\n",
    "import org.apache.spark._\n",
    "import org.apache.spark.sql.expressions.Window\n",
    "import org.apache.spark.sql.functions._\n",
    "import org.apache.spark.sql.ibm.event.EventSession\n",
    "import org.apache.spark.sql.Row\n",
    "import org.apache.spark.sql.types._\n",
    "import com.ibm.event.catalog.TableSchema\n",
    "import com.ibm.event.common.ConfigurationReader\n",
    "import com.ibm.event.example.DataGenerator\n",
    "import com.ibm.event.oltp.EventContext\n",
    "import com.ibm.event.oltp.InsertResult"
   ]
  },
  {
   "cell_type": "markdown",
   "metadata": {},
   "source": [
    "## Connect to Event Store"
   ]
  },
  {
   "cell_type": "code",
   "execution_count": null,
   "metadata": {
    "collapsed": false
   },
   "outputs": [],
   "source": [
    "ConfigurationReader.setConnectionEndpoints(host + \":\" + port)\n",
    "ConfigurationReader.setConnectionTimeout(1)"
   ]
  },
  {
   "cell_type": "markdown",
   "metadata": {},
   "source": [
    "## Load data from the Event Store table into a DataFrame"
   ]
  },
  {
   "cell_type": "code",
   "execution_count": null,
   "metadata": {
    "collapsed": false
   },
   "outputs": [],
   "source": [
    "val sqlContext = new EventSession(spark.sparkContext, db)\n",
    "import sqlContext.implicits._\n",
    "\n",
    "var table = sqlContext.loadEventTable(tableName)\n",
    "table.registerTempTable(tableName)\n",
    "var cancelTable = sqlContext.loadEventTable(cancelTableName)\n",
    "cancelTable.registerTempTable(cancelTableName)"
   ]
  },
  {
   "cell_type": "markdown",
   "metadata": {},
   "source": [
    "## Show the count and latest rows\n",
    "Running this cell over and over is the fastest way to see that you have\n",
    "successfully been inserting rows.\n",
    "\n",
    "> Note: A timestamp was used for the `id`, so we can use that to sort events as they were received."
   ]
  },
  {
   "cell_type": "code",
   "execution_count": null,
   "metadata": {
    "collapsed": false
   },
   "outputs": [],
   "source": [
    "sqlContext.sql(s\"select count(*) from $tableName\").show()\n",
    "sqlContext.sql(s\"select count(*) from $cancelTableName\").show()"
   ]
  },
  {
   "cell_type": "code",
   "execution_count": null,
   "metadata": {
    "collapsed": false
   },
   "outputs": [],
   "source": [
    "sqlContext.sql(s\"select * from $tableName order by id desc\").show(3)  // Show most recent 3"
   ]
  },
  {
   "cell_type": "markdown",
   "metadata": {},
   "source": [
    "Cell magic provides a is a prettier way of showing the latest 3 rows:"
   ]
  },
  {
   "cell_type": "code",
   "execution_count": null,
   "metadata": {
    "collapsed": false
   },
   "outputs": [],
   "source": [
    "%%dataframe --limit 3\n",
    "sqlContext.sql(s\"select * from $tableName order by id desc\")"
   ]
  },
  {
   "cell_type": "markdown",
   "metadata": {},
   "source": [
    "## Aggregate and show the data\n",
    "\n",
    "Use Spark SQL to build DataFrames with aggregated data."
   ]
  },
  {
   "cell_type": "markdown",
   "metadata": {},
   "source": [
    "### Calculate aggregated  gross sales and units by product\n",
    "#### Show top 10 by gross sales"
   ]
  },
  {
   "cell_type": "code",
   "execution_count": null,
   "metadata": {
    "collapsed": false,
    "scrolled": true
   },
   "outputs": [],
   "source": [
    "%%dataframe --limit 10\n",
    "sqlContext.sql(\"select Description as Product, sum(Quantity) as Units, sum(CAST (UnitPrice as DECIMAL(15,2)) * Quantity) as Gross\" + s\" from $tableName\" + \" group by Description order by 3 desc\")"
   ]
  },
  {
   "cell_type": "markdown",
   "metadata": {},
   "source": [
    "#### Show top 10 by units"
   ]
  },
  {
   "cell_type": "code",
   "execution_count": null,
   "metadata": {
    "collapsed": false,
    "scrolled": true
   },
   "outputs": [],
   "source": [
    "%%dataframe --limit 10\n",
    "val aggDF = sqlContext.sql(\"select Description as Product, sum(Quantity) as Units, CAST (sum(UnitPrice * Quantity) as DECIMAL(15,0)) as Gross\" + s\" from $tableName\" + \" group by Description order by 2 desc\")\n"
   ]
  },
  {
   "cell_type": "markdown",
   "metadata": {},
   "source": [
    "## Visualize the data with Brunel"
   ]
  },
  {
   "cell_type": "markdown",
   "metadata": {},
   "source": [
    "### Gross sales by product"
   ]
  },
  {
   "cell_type": "code",
   "execution_count": null,
   "metadata": {
    "collapsed": false
   },
   "outputs": [],
   "source": [
    "%%brunel data('aggDF') \n",
    "bar at(0,0,50,100) title(\"Gross Sales by Product\")\n",
    "  x(Product) y(Gross) top(Gross:15)\n",
    "  tooltip(Product, Gross) color(Gross:BlueGreens) legends(none) opacity(#selection:.5)\n",
    "  axes(x:'Top 15 Products',y:'Gross') sort(Gross) interaction(select)|\n",
    "treemap at(55,5,100,70)\n",
    "  size(Gross) top(Gross:1000) sort(Gross)\n",
    "  color(Gross:BlueGreens) label(Gross) legends(none)\n",
    "  tooltip(Product, Gross, Units) opacity(#selection:.5) interaction(select)\n",
    ":: width=1000, height=600"
   ]
  },
  {
   "cell_type": "code",
   "execution_count": null,
   "metadata": {
    "collapsed": false
   },
   "outputs": [],
   "source": [
    "%%brunel data('aggDF') \n",
    "bar at(0,0,50,100) title(\"Units by Product\")\n",
    "  x(Product) y(Units) top(Units:15)\n",
    "  tooltip(Product, Units) color(Units:PurpleBlues) legends(none) opacity(#selection:.5)\n",
    "  axes(x:'Top 15 Products',y:'Units') sort(Units) interaction(select)|\n",
    "treemap at(55,5,100,70)\n",
    "  sort(Units) size(Units)  top(Units:1000)\n",
    "  color(Units:PurpleBlues) label(Units) legends(none)\n",
    "  tooltip(Product, Gross, Units) opacity(#selection:.5) interaction(select)\n",
    ":: width=1000, height=600"
   ]
  },
  {
   "cell_type": "markdown",
   "metadata": {},
   "source": [
    "## Manipulate the the data\n",
    "\n",
    "For example, we can take the timestamp and determine year, month, day, day-of-week and hour-of-day.\n",
    "Let's add some time dimensions to the DataFrame and look at what hour of the day is the busiest."
   ]
  },
  {
   "cell_type": "code",
   "execution_count": null,
   "metadata": {
    "collapsed": false,
    "scrolled": false
   },
   "outputs": [],
   "source": [
    "val invoicesDF = sqlContext.sql(\n",
    "  \"select distinct InvoiceNo, InvoiceDate, Country\"\n",
    "  + s\" from $tableName group by InvoiceNo, InvoiceDate, Country\"\n",
    ")\n",
    "val invoicesHourDF = invoicesDF.withColumn(\"Hour\",date_format(invoicesDF(\"InvoiceDate\"), \"H\")).drop(\"InvoiceDate\")\n",
    "invoicesHourDF.show(5)"
   ]
  },
  {
   "cell_type": "markdown",
   "metadata": {},
   "source": [
    "### Invoices by country"
   ]
  },
  {
   "cell_type": "code",
   "execution_count": null,
   "metadata": {
    "collapsed": false
   },
   "outputs": [],
   "source": [
    "%%brunel data('invoicesHourDF')\n",
    "x(Country) y(#count) sort(#count) color(#count:Reds) at(0,0,50,100) opacity(#selection:.7)\n",
    "stack bar\n",
    "  axes(x:'Country', y:'Invoices')\n",
    "  interaction(select) tooltip(#all)|\n",
    "map('Europe') opacity(#selection:.7) at(50,0,100,100) x(Country) color(#count:Reds) tooltip(#all)\n",
    ":: width=1000, height=300\n"
   ]
  },
  {
   "cell_type": "markdown",
   "metadata": {},
   "source": [
    "### Invoices by hour and country"
   ]
  },
  {
   "cell_type": "code",
   "execution_count": null,
   "metadata": {
    "collapsed": false
   },
   "outputs": [],
   "source": [
    "%%brunel data('invoicesHourDF') \n",
    "x(Hour:linear) y(#count)\n",
    "stack bar\n",
    "  axes(x:'Hour':linear, y:'Invoices')\n",
    "  color(Country:[PurpleBlues,GreenYellows])\n",
    ":: width=1000, height=200"
   ]
  },
  {
   "cell_type": "markdown",
   "metadata": {},
   "source": [
    "<p><font size=-1 color=gray>\n",
    "&copy; Copyright 2018 IBM Corp. All Rights Reserved.\n",
    "<p>\n",
    "Licensed under the Apache License, Version 2.0 (the \"License\"); you may not use this file\n",
    "except in compliance with the License. You may obtain a copy of the License at\n",
    "http://www.apache.org/licenses/LICENSE-2.0\n",
    "Unless required by applicable law or agreed to in writing, software distributed under the\n",
    "License is distributed on an \"AS IS\" BASIS, WITHOUT WARRANTIES OR CONDITIONS OF ANY KIND, either\n",
    "express or implied. See the License for the specific language governing permissions and\n",
    "limitations under the License.\n",
    "</font></p>"
   ]
  }
 ],
 "metadata": {
  "kernelspec": {
   "display_name": "Apache Toree - Scala",
   "language": "scala",
   "name": "apache_toree_scala"
  },
  "language_info": {
   "file_extension": ".scala",
   "name": "scala",
   "version": "2.11.8"
  }
 },
 "nbformat": 4,
 "nbformat_minor": 1
}
